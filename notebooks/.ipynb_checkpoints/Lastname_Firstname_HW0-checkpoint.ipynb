{
  "cells": [
    {
      "cell_type": "markdown",
      "metadata": {},
      "source": [
        "# DSCI 552 \u2014 Homework 0\n",
        "\n",
        "**Name:** _Your Name Here_  \n",
        "**GitHub Username:** _your-github-username_  \n",
        "**USC ID:** _your USC ID_\n",
        "\n",
        "> Use **relative paths** for any data files (e.g., `../data/Salaries.csv`).  \n",
        "> Before submitting, run **Kernel \u2192 Restart & Run All** to ensure the notebook executes cleanly from scratch."
      ]
    },
    {
      "cell_type": "markdown",
      "metadata": {},
      "source": [
        "## 2. Setting up an Integrated Development Environment (IDE)"
      ]
    },
    {
      "cell_type": "markdown",
      "metadata": {},
      "source": [
        "- [ ] I installed Anaconda (specify version):  \n",
        "- [ ] I verified `conda --version` works in my terminal.  \n",
        "- [ ] Notes / issues I encountered:"
      ]
    },
    {
      "cell_type": "markdown",
      "metadata": {},
      "source": [
        "## 3. Google Colab"
      ]
    },
    {
      "cell_type": "markdown",
      "metadata": {},
      "source": [
        "- [ ] I reviewed the Colab intro notebook (link in instructions).  \n",
        "- [ ] Notes (optional):"
      ]
    },
    {
      "cell_type": "markdown",
      "metadata": {},
      "source": [
        "## 4. Pandas"
      ]
    },
    {
      "cell_type": "markdown",
      "metadata": {},
      "source": [
        "Load `Salaries.csv` using **relative path** from `../data/`.  \n",
        "Follow the sub-questions (a)\u2013(g) exactly as in the assignment."
      ]
    },
    {
      "cell_type": "code",
      "metadata": {},
      "execution_count": null,
      "outputs": [],
      "source": [
        "# (a)(b) Read Salaries.csv into a DataFrame\n",
        "# TODO: replace 'Salaries.csv' with your actual file name under ../data/\n",
        "import pandas as pd\n",
        "\n",
        "csv_path = \"../data/Salaries.csv\"  # use relative path\n",
        "# df = pd.read_csv(csv_path, ... )  # TODO: complete per (b)(c)\n",
        "# display(df.head())"
      ]
    },
    {
      "cell_type": "code",
      "metadata": {},
      "execution_count": null,
      "outputs": [],
      "source": [
        "# (c) Make playerID the index, first row as header, skip 2nd row\n",
        "# TODO: implement read_csv with index_col=..., header=..., skiprows=..."
      ]
    },
    {
      "cell_type": "code",
      "metadata": {},
      "execution_count": null,
      "outputs": [],
      "source": [
        "# (d) Select the id of the players who are registered in ATL and HOU with salary > 1,000,000\n",
        "# TODO: filtering & selection"
      ]
    },
    {
      "cell_type": "code",
      "metadata": {},
      "execution_count": null,
      "outputs": [],
      "source": [
        "# (e) describe() for team ATL's salary: std, Q1, median, Q3, mean, max, min\n",
        "# TODO"
      ]
    },
    {
      "cell_type": "code",
      "metadata": {},
      "execution_count": null,
      "outputs": [],
      "source": [
        "# (f) Build a dict by iterating rows (iterrows), keys=headers, values=lists\n",
        "# TODO"
      ]
    },
    {
      "cell_type": "code",
      "metadata": {},
      "execution_count": null,
      "outputs": [],
      "source": [
        "# (g) Create a new DataFrame from dict and rename headers to 'a','b','c',...\n",
        "# TODO"
      ]
    },
    {
      "cell_type": "markdown",
      "metadata": {},
      "source": [
        "## 5. NumPy"
      ]
    },
    {
      "cell_type": "code",
      "metadata": {},
      "execution_count": null,
      "outputs": [],
      "source": [
        "# (a) Create a 2D Python list, then convert to a NumPy array\n",
        "# TODO"
      ]
    },
    {
      "cell_type": "code",
      "metadata": {},
      "execution_count": null,
      "outputs": [],
      "source": [
        "# (b) Examine ndim, shape, size, dtype, itemsize, data\n",
        "# TODO"
      ]
    },
    {
      "cell_type": "code",
      "metadata": {},
      "execution_count": null,
      "outputs": [],
      "source": [
        "# (c) reshape() and flatten() demos\n",
        "# TODO"
      ]
    },
    {
      "cell_type": "code",
      "metadata": {},
      "execution_count": null,
      "outputs": [],
      "source": [
        "# (d) slicing 1-D and 2-D arrays\n",
        "# TODO"
      ]
    },
    {
      "cell_type": "code",
      "metadata": {},
      "execution_count": null,
      "outputs": [],
      "source": [
        "# (e) operations: argmin, argmax, min, max, mean, sum, std, dot, square, sqrt, abs, exp, sign, mod\n",
        "# TODO"
      ]
    },
    {
      "cell_type": "code",
      "metadata": {},
      "execution_count": null,
      "outputs": [],
      "source": [
        "# (f) arange, ones, zeros, eye, linspace, concatenate\n",
        "# TODO"
      ]
    },
    {
      "cell_type": "markdown",
      "metadata": {},
      "source": [
        "## 6. Scikit-Learn"
      ]
    },
    {
      "cell_type": "markdown",
      "metadata": {},
      "source": [
        "Implement small demos for each listed item using simple toy arrays or small DataFrames.  \n",
        "Be concise but show you understand the API."
      ]
    },
    {
      "cell_type": "code",
      "metadata": {},
      "execution_count": null,
      "outputs": [],
      "source": [
        "# Preprocessing: StandardScaler / MinMaxScaler / encoders / train_test_split\n",
        "# TODO"
      ]
    },
    {
      "cell_type": "code",
      "metadata": {},
      "execution_count": null,
      "outputs": [],
      "source": [
        "# Models: KNN / LinearRegression / LogisticRegression / CV utilities / metrics\n",
        "# TODO"
      ]
    },
    {
      "cell_type": "code",
      "metadata": {},
      "execution_count": null,
      "outputs": [],
      "source": [
        "# Tree / RandomForest / AdaBoost / SVM / Multiclass wrappers\n",
        "# TODO"
      ]
    },
    {
      "cell_type": "code",
      "metadata": {},
      "execution_count": null,
      "outputs": [],
      "source": [
        "# Unsupervised: KMeans + scipy.cluster.hierarchy (sketch)\n",
        "# TODO"
      ]
    },
    {
      "cell_type": "code",
      "metadata": {},
      "execution_count": null,
      "outputs": [],
      "source": [
        "# Semi-supervised: LabelPropagation / LabelSpreading (sketch)\n",
        "# TODO"
      ]
    },
    {
      "cell_type": "markdown",
      "metadata": {},
      "source": [
        "## 7. Git and GitHub (Checklist)"
      ]
    },
    {
      "cell_type": "markdown",
      "metadata": {},
      "source": [
        "- [ ] Init a Git repo in this notebook directory (practice).  \n",
        "- [ ] Create and switch to `dev` branch; commit the current notebook.  \n",
        "- [ ] Merge `dev` \u2192 `master` (or `main`).  \n",
        "- [ ] Create a temporary repository on GitHub (practice).  \n",
        "- [ ] Push the `master` branch to the remote (practice).  \n",
        "- [ ] Switch back to `dev`, make small changes, repeat merge & push (practice)."
      ]
    },
    {
      "cell_type": "markdown",
      "metadata": {},
      "source": [
        "## 8. Matplotlib"
      ]
    },
    {
      "cell_type": "code",
      "metadata": {},
      "execution_count": null,
      "outputs": [],
      "source": [
        "# (a) Basic line plot y vs x with title/xlabel/ylabel/grid\n",
        "# TODO"
      ]
    },
    {
      "cell_type": "code",
      "metadata": {},
      "execution_count": null,
      "outputs": [],
      "source": [
        "# (b) Multiple arrays, styles, legend, and annotate with text/math\n",
        "# TODO"
      ]
    },
    {
      "cell_type": "code",
      "metadata": {},
      "execution_count": null,
      "outputs": [],
      "source": [
        "# (c) Multiple subplots; play with figure size and font sizes\n",
        "# TODO"
      ]
    },
    {
      "cell_type": "code",
      "metadata": {},
      "execution_count": null,
      "outputs": [],
      "source": [
        "# (d) Use gca() to tweak axes\n",
        "# TODO"
      ]
    },
    {
      "cell_type": "code",
      "metadata": {},
      "execution_count": null,
      "outputs": [],
      "source": [
        "# (e) Set axis limits and use log-scale\n",
        "# TODO"
      ]
    },
    {
      "cell_type": "markdown",
      "metadata": {},
      "source": [
        "## 9. Seaborn"
      ]
    },
    {
      "cell_type": "code",
      "metadata": {},
      "execution_count": null,
      "outputs": [],
      "source": [
        "# (a)(b) Load the Salaries.csv into a DataFrame and plot with seaborn\n",
        "# TODO"
      ]
    },
    {
      "cell_type": "code",
      "metadata": {},
      "execution_count": null,
      "outputs": [],
      "source": [
        "# (c) Statistical estimation: lmplot, catplot, relplot\n",
        "# TODO"
      ]
    },
    {
      "cell_type": "code",
      "metadata": {},
      "execution_count": null,
      "outputs": [],
      "source": [
        "# (d) Axis-level: boxplot\n",
        "# TODO"
      ]
    },
    {
      "cell_type": "code",
      "metadata": {},
      "execution_count": null,
      "outputs": [],
      "source": [
        "# (e) Structure visualization: pairplot, jointplot\n",
        "# TODO"
      ]
    }
  ],
  "metadata": {
    "kernelspec": {
      "display_name": "Python 3",
      "language": "python",
      "name": "python3"
    },
    "language_info": {
      "name": "python",
      "version": "3.10"
    }
  },
  "nbformat": 4,
  "nbformat_minor": 5
}