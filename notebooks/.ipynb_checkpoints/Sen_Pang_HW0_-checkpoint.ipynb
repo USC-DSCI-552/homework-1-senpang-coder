{
 "cells": [
  {
   "cell_type": "markdown",
   "id": "240b112c",
   "metadata": {},
   "source": [
    "# DSCI 552 — Homework 0\n",
    "\n",
    "**Name:** senpang \n",
    "**GitHub Username:** senpang-coder\n",
    "**USC ID:** 8598139533\n"
   ]
  },
  {
   "cell_type": "markdown",
   "id": "95477e47",
   "metadata": {},
   "source": [
    "## 2. Setting up an Integrated Development Environment (IDE)"
   ]
  },
  {
   "cell_type": "markdown",
   "id": "6369b2be",
   "metadata": {},
   "source": [
    "## 3. Google Colab"
   ]
  },
  {
   "cell_type": "markdown",
   "id": "7a1e41ab",
   "metadata": {},
   "source": [
    "## 4. Pandas"
   ]
  },
  {
   "cell_type": "markdown",
   "id": "2cd2483f",
   "metadata": {},
   "source": [
    "Load `Salaries.csv` using **relative path** from `../data/`.  \n",
    "Follow the sub-questions (a)–(g) exactly as in the assignment."
   ]
  },
  {
   "cell_type": "code",
   "execution_count": 3,
   "id": "08271443",
   "metadata": {},
   "outputs": [],
   "source": [
    "\n",
    "import pandas as pd\n",
    "\n",
    "csv_path = \"/Users/pang/Desktop/552/homework/hw0_starter/data/Salaries.csv\"\n"
   ]
  },
  {
   "cell_type": "code",
   "execution_count": 5,
   "id": "9b0dd8c8",
   "metadata": {},
   "outputs": [
    {
     "data": {
      "text/html": [
       "<div>\n",
       "<style scoped>\n",
       "    .dataframe tbody tr th:only-of-type {\n",
       "        vertical-align: middle;\n",
       "    }\n",
       "\n",
       "    .dataframe tbody tr th {\n",
       "        vertical-align: top;\n",
       "    }\n",
       "\n",
       "    .dataframe thead th {\n",
       "        text-align: right;\n",
       "    }\n",
       "</style>\n",
       "<table border=\"1\" class=\"dataframe\">\n",
       "  <thead>\n",
       "    <tr style=\"text-align: right;\">\n",
       "      <th></th>\n",
       "      <th>yearID</th>\n",
       "      <th>teamID</th>\n",
       "      <th>lgID</th>\n",
       "      <th>salary</th>\n",
       "    </tr>\n",
       "    <tr>\n",
       "      <th>playerID</th>\n",
       "      <th></th>\n",
       "      <th></th>\n",
       "      <th></th>\n",
       "      <th></th>\n",
       "    </tr>\n",
       "  </thead>\n",
       "  <tbody>\n",
       "    <tr>\n",
       "      <th>bedrost01</th>\n",
       "      <td>1985</td>\n",
       "      <td>ATL</td>\n",
       "      <td>NL</td>\n",
       "      <td>550000</td>\n",
       "    </tr>\n",
       "    <tr>\n",
       "      <th>benedbr01</th>\n",
       "      <td>1985</td>\n",
       "      <td>ATL</td>\n",
       "      <td>NL</td>\n",
       "      <td>545000</td>\n",
       "    </tr>\n",
       "    <tr>\n",
       "      <th>campri01</th>\n",
       "      <td>1985</td>\n",
       "      <td>ATL</td>\n",
       "      <td>NL</td>\n",
       "      <td>633333</td>\n",
       "    </tr>\n",
       "    <tr>\n",
       "      <th>ceronri01</th>\n",
       "      <td>1985</td>\n",
       "      <td>ATL</td>\n",
       "      <td>NL</td>\n",
       "      <td>625000</td>\n",
       "    </tr>\n",
       "    <tr>\n",
       "      <th>chambch01</th>\n",
       "      <td>1985</td>\n",
       "      <td>ATL</td>\n",
       "      <td>NL</td>\n",
       "      <td>800000</td>\n",
       "    </tr>\n",
       "  </tbody>\n",
       "</table>\n",
       "</div>"
      ],
      "text/plain": [
       "           yearID teamID lgID  salary\n",
       "playerID                             \n",
       "bedrost01    1985    ATL   NL  550000\n",
       "benedbr01    1985    ATL   NL  545000\n",
       "campri01     1985    ATL   NL  633333\n",
       "ceronri01    1985    ATL   NL  625000\n",
       "chambch01    1985    ATL   NL  800000"
      ]
     },
     "execution_count": 5,
     "metadata": {},
     "output_type": "execute_result"
    }
   ],
   "source": [
    "df = pd.read_csv(\n",
    "    csv_path,\n",
    "    index_col=\"playerID\",  \n",
    "    header=0,              \n",
    "    skiprows=[1]           \n",
    ")\n",
    "\n",
    "df.head()"
   ]
  },
  {
   "cell_type": "code",
   "execution_count": 7,
   "id": "0decfb4c",
   "metadata": {},
   "outputs": [
    {
     "data": {
      "text/plain": [
       "Index(['hornebo01', 'murphda05', 'suttebr01', 'ryanno01', 'griffke01',\n",
       "       'smithda02', 'clancji01', 'davisgl01', 'ramirra01', 'scottmi03',\n",
       "       ...\n",
       "       'simmoan01', 'carmofa01', 'cartech02', 'congeha01', 'gonzama01',\n",
       "       'gregelu01', 'neshepa01', 'rasmuco01', 'sippto01', 'valbulu01'],\n",
       "      dtype='object', name='playerID', length=242)"
      ]
     },
     "execution_count": 7,
     "metadata": {},
     "output_type": "execute_result"
    }
   ],
   "source": [
    "filtered = df[(df[\"teamID\"].isin([\"ATL\", \"HOU\"])) & (df[\"salary\"] > 1_000_000)]\n",
    "player_ids = filtered.index.unique()\n",
    "player_ids"
   ]
  },
  {
   "cell_type": "code",
   "execution_count": 9,
   "id": "8618e98c",
   "metadata": {},
   "outputs": [
    {
     "name": "stdout",
     "output_type": "stream",
     "text": [
      "count    8.850000e+02\n",
      "mean     2.207749e+06\n",
      "std      3.434320e+06\n",
      "min      6.000000e+04\n",
      "25%      3.000000e+05\n",
      "50%      6.000000e+05\n",
      "75%      2.400000e+06\n",
      "max      1.606180e+07\n",
      "Name: salary, dtype: float64\n",
      "Std: 3434319.605441606\n",
      "Q1: 300000.0\n",
      "Median: 600000.0\n",
      "Q3: 2400000.0\n",
      "Mean: 2207749.190960452\n",
      "Max: 16061802\n",
      "Min: 60000\n"
     ]
    }
   ],
   "source": [
    "#salary\n",
    "atl_salary = df.loc[df[\"teamID\"] == \"ATL\", \"salary\"]\n",
    "\n",
    "\n",
    "desc = atl_salary.describe(percentiles=[0.25, 0.5, 0.75])\n",
    "print(desc)\n",
    "\n",
    "std_val = atl_salary.std()      \n",
    "q1_val = atl_salary.quantile(0.25)  \n",
    "median_val = atl_salary.median()    \n",
    "q3_val = atl_salary.quantile(0.75)  \n",
    "mean_val = atl_salary.mean()    \n",
    "max_val = atl_salary.max()      \n",
    "min_val = atl_salary.min()      \n",
    "\n",
    "print(\"Std:\", std_val)\n",
    "print(\"Q1:\", q1_val)\n",
    "print(\"Median:\", median_val)\n",
    "print(\"Q3:\", q3_val)\n",
    "print(\"Mean:\", mean_val)\n",
    "print(\"Max:\", max_val)\n",
    "print(\"Min:\", min_val)\n"
   ]
  },
  {
   "cell_type": "code",
   "execution_count": 11,
   "id": "da904144",
   "metadata": {},
   "outputs": [
    {
     "name": "stdout",
     "output_type": "stream",
     "text": [
      "yearID : [1985, 1985, 1985, 1985, 1985]\n",
      "teamID : ['ATL', 'ATL', 'ATL', 'ATL', 'ATL']\n",
      "lgID : ['NL', 'NL', 'NL', 'NL', 'NL']\n"
     ]
    }
   ],
   "source": [
    "# 初始化一个空字典，键为列名，值为列表\n",
    "dict_from_df = {col: [] for col in df.columns}\n",
    "\n",
    "# 用 iterrows() 遍历每一行\n",
    "for idx, row in df.iterrows():\n",
    "    for col in df.columns:\n",
    "        dict_from_df[col].append(row[col])\n",
    "\n",
    "# 查看结果（只打印前几个键值对）\n",
    "for k, v in list(dict_from_df.items())[:3]:\n",
    "    print(k, \":\", v[:5])  # 只展示前5个元素\n"
   ]
  },
  {
   "cell_type": "code",
   "execution_count": 13,
   "id": "6e403ac7",
   "metadata": {},
   "outputs": [
    {
     "data": {
      "text/html": [
       "<div>\n",
       "<style scoped>\n",
       "    .dataframe tbody tr th:only-of-type {\n",
       "        vertical-align: middle;\n",
       "    }\n",
       "\n",
       "    .dataframe tbody tr th {\n",
       "        vertical-align: top;\n",
       "    }\n",
       "\n",
       "    .dataframe thead th {\n",
       "        text-align: right;\n",
       "    }\n",
       "</style>\n",
       "<table border=\"1\" class=\"dataframe\">\n",
       "  <thead>\n",
       "    <tr style=\"text-align: right;\">\n",
       "      <th></th>\n",
       "      <th>a</th>\n",
       "      <th>b</th>\n",
       "      <th>c</th>\n",
       "      <th>d</th>\n",
       "    </tr>\n",
       "  </thead>\n",
       "  <tbody>\n",
       "    <tr>\n",
       "      <th>0</th>\n",
       "      <td>1985</td>\n",
       "      <td>ATL</td>\n",
       "      <td>NL</td>\n",
       "      <td>550000</td>\n",
       "    </tr>\n",
       "    <tr>\n",
       "      <th>1</th>\n",
       "      <td>1985</td>\n",
       "      <td>ATL</td>\n",
       "      <td>NL</td>\n",
       "      <td>545000</td>\n",
       "    </tr>\n",
       "    <tr>\n",
       "      <th>2</th>\n",
       "      <td>1985</td>\n",
       "      <td>ATL</td>\n",
       "      <td>NL</td>\n",
       "      <td>633333</td>\n",
       "    </tr>\n",
       "    <tr>\n",
       "      <th>3</th>\n",
       "      <td>1985</td>\n",
       "      <td>ATL</td>\n",
       "      <td>NL</td>\n",
       "      <td>625000</td>\n",
       "    </tr>\n",
       "    <tr>\n",
       "      <th>4</th>\n",
       "      <td>1985</td>\n",
       "      <td>ATL</td>\n",
       "      <td>NL</td>\n",
       "      <td>800000</td>\n",
       "    </tr>\n",
       "  </tbody>\n",
       "</table>\n",
       "</div>"
      ],
      "text/plain": [
       "      a    b   c       d\n",
       "0  1985  ATL  NL  550000\n",
       "1  1985  ATL  NL  545000\n",
       "2  1985  ATL  NL  633333\n",
       "3  1985  ATL  NL  625000\n",
       "4  1985  ATL  NL  800000"
      ]
     },
     "execution_count": 13,
     "metadata": {},
     "output_type": "execute_result"
    }
   ],
   "source": [
    "import string\n",
    "import pandas as pd\n",
    "\n",
    "\n",
    "new_df = pd.DataFrame(dict_from_df)\n",
    "\n",
    "# 生成新的列名 ['a','b','c',...]\n",
    "new_columns = list(string.ascii_lowercase[:len(new_df.columns)])\n",
    "\n",
    "# 替换列名\n",
    "new_df.columns = new_columns\n",
    "\n",
    "# 查看前几行\n",
    "new_df.head()\n"
   ]
  },
  {
   "cell_type": "markdown",
   "id": "7dbecd25",
   "metadata": {},
   "source": [
    "## 5. NumPy"
   ]
  },
  {
   "cell_type": "code",
   "execution_count": 17,
   "id": "59789aa1",
   "metadata": {},
   "outputs": [
    {
     "name": "stdout",
     "output_type": "stream",
     "text": [
      "(a) A =\n",
      " [[1 2 3]\n",
      " [4 5 6]]\n"
     ]
    }
   ],
   "source": [
    "import numpy as np\n",
    "py2d = [[1, 2, 3],\n",
    "        [4, 5, 6]]\n",
    "A = np.array(py2d)\n",
    "print(\"(a) A =\\n\", A)"
   ]
  },
  {
   "cell_type": "code",
   "execution_count": 19,
   "id": "506d73db",
   "metadata": {},
   "outputs": [
    {
     "name": "stdout",
     "output_type": "stream",
     "text": [
      "\n",
      "(b) A.ndim    = 2\n",
      "    A.shape   = (2, 3)\n",
      "    A.size    = 6\n",
      "    A.dtype   = int64\n",
      "    A.itemsize= 8\n",
      "    A.data    = <memory at 0x16b1576b0>\n"
     ]
    }
   ],
   "source": [
    "print(\"\\n(b) A.ndim    =\", A.ndim)      # 维度个数\n",
    "print(\"    A.shape   =\", A.shape)       # 各维长度\n",
    "print(\"    A.size    =\", A.size)        # 元素总数\n",
    "print(\"    A.dtype   =\", A.dtype)       # 数据类型\n",
    "print(\"    A.itemsize=\", A.itemsize)    # 单个元素字节数\n",
    "print(\"    A.data    =\", A.data)        # 内存指针（了解即可）"
   ]
  },
  {
   "cell_type": "code",
   "execution_count": 21,
   "id": "f02e36f9",
   "metadata": {},
   "outputs": [
    {
     "name": "stdout",
     "output_type": "stream",
     "text": [
      "\n",
      "(c) B = A.reshape(3,2)=\n",
      " [[1 2]\n",
      " [3 4]\n",
      " [5 6]]\n",
      "    f = A.flatten()   = [1 2 3 4 5 6]\n"
     ]
    }
   ],
   "source": [
    "B = A.reshape(3, 2)   # 改变形状但共用底层数据\n",
    "f = A.flatten()       # 拉平成一维（复制）\n",
    "print(\"\\n(c) B = A.reshape(3,2)=\\n\", B)\n",
    "print(\"    f = A.flatten()   =\", f)"
   ]
  },
  {
   "cell_type": "code",
   "execution_count": 23,
   "id": "924103cf",
   "metadata": {},
   "outputs": [
    {
     "name": "stdout",
     "output_type": "stream",
     "text": [
      "\n",
      "(d) 1D slice v[1:4]  = [11 12 13]\n",
      "    1D step v[::2]    = [10 12 14]\n",
      "    2D row A[0, :]    = [1 2 3]\n",
      "    2D col A[:, 1]    = [2 5]\n",
      "    2D block A[:, 1:] =\n",
      " [[2 3]\n",
      " [5 6]]\n"
     ]
    }
   ],
   "source": [
    "v = np.array([10, 11, 12, 13, 14, 15])\n",
    "print(\"\\n(d) 1D slice v[1:4]  =\", v[1:4])      # [11,12,13]\n",
    "print(\"    1D step v[::2]    =\", v[::2])      # 间隔取样\n",
    "print(\"    2D row A[0, :]    =\", A[0, :])     # 第 0 行\n",
    "print(\"    2D col A[:, 1]    =\", A[:, 1])     # 第 1 列\n",
    "print(\"    2D block A[:, 1:] =\\n\", A[:, 1:])  # 子块"
   ]
  },
  {
   "cell_type": "code",
   "execution_count": 27,
   "id": "b5dae123",
   "metadata": {},
   "outputs": [
    {
     "name": "stdout",
     "output_type": "stream",
     "text": [
      "\n",
      "(e) x =\n",
      " [[ 3. -1.  7.]\n",
      " [ 0.  5.  2.]]\n",
      "    argmin(x) = 1\n",
      "    argmax(x) = 2\n",
      "    min(x)    = -1.0\n",
      "    max(x)    = 7.0\n",
      "    mean(x)   = 2.6666666666666665\n",
      "    sum(x)    = 16.0\n",
      "    std(x)    = 2.748737083745107\n",
      "    dot(a,b)  = 32\n",
      "    square(x) =\n",
      " [[ 9.  1. 49.]\n",
      " [ 0. 25.  4.]]\n",
      "    sqrt(|x|) =\n",
      " [[1.73205081 1.         2.64575131]\n",
      " [0.         2.23606798 1.41421356]]\n",
      "    abs(x)    =\n",
      " [[3. 1. 7.]\n",
      " [0. 5. 2.]]\n",
      "    exp(x)    =\n",
      " [[2.00855369e+01 3.67879441e-01 1.09663316e+03]\n",
      " [1.00000000e+00 1.48413159e+02 7.38905610e+00]]\n",
      "    sign(x)   =\n",
      " [[ 1. -1.  1.]\n",
      " [ 0.  1.  1.]]\n",
      "    mod(x,2)  =\n",
      " [[1. 1. 1.]\n",
      " [0. 1. 0.]]\n"
     ]
    }
   ],
   "source": [
    "x = np.array([[3, -1, 7],\n",
    "              [0,  5, 2]], dtype=float)\n",
    "y = np.array([[1, 2, 3],\n",
    "              [4, 5, 6]], dtype=float)\n",
    "\n",
    "print(\"\\n(e) x =\\n\", x)\n",
    "print(\"    argmin(x) =\", np.argmin(x))        # 扁平索引\n",
    "print(\"    argmax(x) =\", np.argmax(x))\n",
    "print(\"    min(x)    =\", np.min(x))\n",
    "print(\"    max(x)    =\", np.max(x))\n",
    "print(\"    mean(x)   =\", np.mean(x))\n",
    "print(\"    sum(x)    =\", np.sum(x))\n",
    "print(\"    std(x)    =\", np.std(x))\n",
    "a = np.array([1, 2, 3])\n",
    "b = np.array([4, 5, 6])\n",
    "print(\"    dot(a,b)  =\", np.dot(a, b))        # 1*4+2*5+3*6=32\n",
    "\n",
    "# 元素级函数\n",
    "print(\"    square(x) =\\n\", np.square(x))\n",
    "print(\"    sqrt(|x|) =\\n\", np.sqrt(np.abs(x)))\n",
    "print(\"    abs(x)    =\\n\", np.abs(x))\n",
    "print(\"    exp(x)    =\\n\", np.exp(x))\n",
    "print(\"    sign(x)   =\\n\", np.sign(x))\n",
    "print(\"    mod(x,2)  =\\n\", np.mod(x, 2))      # 取模"
   ]
  },
  {
   "cell_type": "code",
   "execution_count": 29,
   "id": "924b1ae9",
   "metadata": {},
   "outputs": [
    {
     "name": "stdout",
     "output_type": "stream",
     "text": [
      "\n",
      "(f) arange(0,10,2) = [0 2 4 6 8]\n",
      "    ones((2,3))  =\n",
      " [[1. 1. 1.]\n",
      " [1. 1. 1.]]\n",
      "    zeros((2,3)) =\n",
      " [[0. 0. 0.]\n",
      " [0. 0. 0.]]\n",
      "    eye(3)       =\n",
      " [[1. 0. 0.]\n",
      " [0. 1. 0.]\n",
      " [0. 0. 1.]]\n",
      "    linspace(0,1,5) = [0.   0.25 0.5  0.75 1.  ]\n",
      "    concatenate([u,w]) = [1 2 3 4 5]\n",
      "    concat axis=0 (竖拼) =\n",
      " [[1 2]\n",
      " [3 4]\n",
      " [5 6]\n",
      " [7 8]]\n",
      "    concat axis=1 (横拼) =\n",
      " [[1 2 5 6]\n",
      " [3 4 7 8]]\n"
     ]
    }
   ],
   "source": [
    "print(\"\\n(f) arange(0,10,2) =\", np.arange(0, 10, 2))   # [0,2,4,6,8]\n",
    "print(\"    ones((2,3))  =\\n\", np.ones((2, 3)))\n",
    "print(\"    zeros((2,3)) =\\n\", np.zeros((2, 3)))\n",
    "print(\"    eye(3)       =\\n\", np.eye(3))               # 3x3 单位阵\n",
    "print(\"    linspace(0,1,5) =\", np.linspace(0, 1, 5))   # 5 个等间点\n",
    "\n",
    "u = np.array([1, 2, 3])\n",
    "w = np.array([4, 5])\n",
    "print(\"    concatenate([u,w]) =\", np.concatenate([u, w]))\n",
    "U = np.array([[1, 2],\n",
    "              [3, 4]])\n",
    "W = np.array([[5, 6],\n",
    "              [7, 8]])\n",
    "print(\"    concat axis=0 (竖拼) =\\n\", np.concatenate([U, W], axis=0))\n",
    "print(\"    concat axis=1 (横拼) =\\n\", np.concatenate([U, W], axis=1))"
   ]
  },
  {
   "cell_type": "markdown",
   "id": "7120c593",
   "metadata": {},
   "source": [
    "## 6. Scikit-Learn"
   ]
  },
  {
   "cell_type": "markdown",
   "id": "1d956978",
   "metadata": {},
   "source": [
    "Implement small demos for each listed item using simple toy arrays or small DataFrames.  \n",
    "Be concise but show you understand the API."
   ]
  },
  {
   "cell_type": "code",
   "execution_count": null,
   "id": "2f11c317",
   "metadata": {},
   "outputs": [],
   "source": [
    "# Preprocessing: StandardScaler / MinMaxScaler / encoders / train_test_split\n"
   ]
  },
  {
   "cell_type": "code",
   "execution_count": null,
   "id": "e713f46a",
   "metadata": {},
   "outputs": [],
   "source": [
    "# Models: KNN / LinearRegression / LogisticRegression / CV utilities / metrics\n"
   ]
  },
  {
   "cell_type": "code",
   "execution_count": null,
   "id": "e8bb1fc3",
   "metadata": {},
   "outputs": [],
   "source": [
    "# Tree / RandomForest / AdaBoost / SVM / Multiclass wrappers\n"
   ]
  },
  {
   "cell_type": "code",
   "execution_count": null,
   "id": "1b914178",
   "metadata": {},
   "outputs": [],
   "source": [
    "# Unsupervised: KMeans + scipy.cluster.hierarchy (sketch)\n"
   ]
  },
  {
   "cell_type": "code",
   "execution_count": null,
   "id": "ef62670d",
   "metadata": {},
   "outputs": [],
   "source": [
    "# Semi-supervised: LabelPropagation / LabelSpreading (sketch)\n"
   ]
  },
  {
   "cell_type": "markdown",
   "id": "282dfe6a",
   "metadata": {},
   "source": [
    "## 7. Git and GitHub (Checklist)"
   ]
  },
  {
   "cell_type": "markdown",
   "id": "3fae4be9",
   "metadata": {},
   "source": [
    "Init a Git repo in this notebook directory (practice).  \n",
    "Create and switch to `dev` branch; commit the current notebook.  \n",
    "Merge `dev` → `master` (or `main`).  \n",
    "Create a temporary repository on GitHub (practice).  \n",
    "Push the `master` branch to the remote (practice).  \n",
    "Switch back to `dev`, make small changes, repeat merge & push (practice)."
   ]
  },
  {
   "cell_type": "markdown",
   "id": "4c3a2e5e",
   "metadata": {},
   "source": [
    "## 8. Matplotlib"
   ]
  },
  {
   "cell_type": "code",
   "execution_count": null,
   "id": "c6e65e23",
   "metadata": {},
   "outputs": [],
   "source": [
    "# (a) Basic line plot y vs x with title/xlabel/ylabel/grid\n"
   ]
  },
  {
   "cell_type": "code",
   "execution_count": null,
   "id": "37ed8b48",
   "metadata": {},
   "outputs": [],
   "source": [
    "# (b) Multiple arrays, styles, legend, and annotate with text/math\n"
   ]
  },
  {
   "cell_type": "code",
   "execution_count": null,
   "id": "2b2cf5f8",
   "metadata": {},
   "outputs": [],
   "source": [
    "# (c) Multiple subplots; play with figure size and font sizes\n"
   ]
  },
  {
   "cell_type": "code",
   "execution_count": null,
   "id": "74e14e82",
   "metadata": {},
   "outputs": [],
   "source": [
    "# (d) Use gca() to tweak axes\n"
   ]
  },
  {
   "cell_type": "code",
   "execution_count": null,
   "id": "904a961c",
   "metadata": {},
   "outputs": [],
   "source": [
    "# (e) Set axis limits and use log-scale\n"
   ]
  },
  {
   "cell_type": "markdown",
   "id": "89d4771b",
   "metadata": {},
   "source": [
    "## 9. Seaborn"
   ]
  },
  {
   "cell_type": "code",
   "execution_count": null,
   "id": "882859c0",
   "metadata": {},
   "outputs": [],
   "source": [
    "# (a)(b) Load the Salaries.csv into a DataFrame and plot with seaborn\n"
   ]
  },
  {
   "cell_type": "code",
   "execution_count": null,
   "id": "0e954ea0",
   "metadata": {},
   "outputs": [],
   "source": [
    "# (c) Statistical estimation: lmplot, catplot, relplot\n"
   ]
  },
  {
   "cell_type": "code",
   "execution_count": null,
   "id": "4c531822",
   "metadata": {},
   "outputs": [],
   "source": [
    "# (d) Axis-level: boxplot\n"
   ]
  },
  {
   "cell_type": "code",
   "execution_count": null,
   "id": "5f168aa0",
   "metadata": {},
   "outputs": [],
   "source": [
    "# (e) Structure visualization: pairplot, jointplot\n"
   ]
  }
 ],
 "metadata": {
  "kernelspec": {
   "display_name": "Python [conda env:base] *",
   "language": "python",
   "name": "conda-base-py"
  },
  "language_info": {
   "codemirror_mode": {
    "name": "ipython",
    "version": 3
   },
   "file_extension": ".py",
   "mimetype": "text/x-python",
   "name": "python",
   "nbconvert_exporter": "python",
   "pygments_lexer": "ipython3",
   "version": "3.12.2"
  }
 },
 "nbformat": 4,
 "nbformat_minor": 5
}
